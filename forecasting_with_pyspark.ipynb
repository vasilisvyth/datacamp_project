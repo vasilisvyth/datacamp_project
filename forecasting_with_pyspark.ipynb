{
 "cells": [
  {
   "cell_type": "markdown",
   "id": "6918e18a-c248-4929-b552-7aee2057c0eb",
   "metadata": {},
   "source": [
    "It's simple to buy any product with a click and have it delivered to your door. Online shopping has been rapidly evolving over the last few years, making our lives easier. But behind the scenes, e-commerce companies face a complex challenge that needs to be addressed. \n",
    "\n",
    "Uncertainty plays a big role in how the supply chains plan and organize their operations to ensure that the products are delivered on time. These uncertainties can lead to challenges such as stockouts, delayed deliveries, and increased operational costs.\n",
    "\n",
    "You work for the Sales & Operations Planning (S&OP) team at a multinational e-commerce company. They need your help to assist in planning for the upcoming end-of-the-year sales. They want to use your insights to plan for promotional opportunities and manage their inventory. This effort is to ensure they have the right products in stock when needed and ensure their customers are satisfied with the prompt delivery to their doorstep.\n",
    "\n",
    "\n",
    "## The Data\n",
    "\n",
    "You are provided with a sales dataset to use. A summary and preview are provided below.\n",
    "\n",
    "# Online Retail.csv\n",
    "\n",
    "| Column     | Description              |\n",
    "|------------|--------------------------|\n",
    "| `'InvoiceNo'` | A 6-digit number uniquely assigned to each transaction |\n",
    "| `'StockCode'` | A 5-digit number uniquely assigned to each distinct product |\n",
    "| `'Description'` | The product name |\n",
    "| `'Quantity'` | The quantity of each product (item) per transaction |\n",
    "| `'UnitPrice'` | Product price per unit |\n",
    "| `'CustomerID'` | A 5-digit number uniquely assigned to each customer |\n",
    "| `'Country'` | The name of the country where each customer resides |\n",
    "| `'InvoiceDate'` | The day and time when each transaction was generated `\"MM/DD/YYYY\"` |\n",
    "| `'Year'` | The year when each transaction was generated |\n",
    "| `'Month'` | The month when each transaction was generated |\n",
    "| `'Week'` | The week when each transaction was generated (`1`-`52`) |\n",
    "| `'Day'` | The day of the month when each transaction was generated (`1`-`31`) |\n",
    "| `'DayOfWeek'` | The day of the weeke when each transaction was generated <br>(`0` = Monday, `6` = Sunday) |"
   ]
  },
  {
   "cell_type": "code",
   "execution_count": null,
   "id": "81a07c66-a3d4-4fdd-9c3c-7b3a19b80d62",
   "metadata": {
    "collapsed": false,
    "executionCancelledAt": null,
    "executionTime": 17471,
    "jupyter": {
     "outputs_hidden": false,
     "source_hidden": false
    },
    "lastExecutedAt": 1731712432569,
    "lastExecutedByKernel": "b0a494c7-4cd6-42c8-a667-4e597dd46a76",
    "lastScheduledRunId": null,
    "lastSuccessfullyExecutedCode": "# Import required libraries\nfrom pyspark.sql import SparkSession\nfrom pyspark.ml.feature import VectorAssembler\nfrom pyspark.ml import Pipeline\nfrom pyspark.ml.regression import RandomForestRegressor\nfrom pyspark.sql.functions import col, dayofmonth, month, year,  to_date, to_timestamp, weekofyear, dayofweek\nfrom pyspark.ml.feature import StringIndexer\nfrom pyspark.ml.evaluation import RegressionEvaluator\n\n# Initialize Spark session\nmy_spark = SparkSession.builder.appName(\"SalesForecast\").getOrCreate()\n\n# Importing sales data\nsales_data = my_spark.read.csv(\n    \"Online Retail.csv\", header=True, inferSchema=True, sep=\",\")\n\n# Convert InvoiceDate to datetime \nsales_data = sales_data.withColumn(\"InvoiceDate\", to_date(\n    to_timestamp(col(\"InvoiceDate\"), \"d/M/yyyy H:mm\")))\n\n# Aggregate data into daily intervals\ndaily_sales_data = sales_data.groupBy(\"Country\", \"StockCode\", \"InvoiceDate\", \"Year\", \"Month\", \"Day\", \"Week\", \"DayOfWeek\").agg({\"Quantity\": \"sum\",                                                                                                           \"UnitPrice\": \"avg\"})\n# Rename the target column\ndaily_sales_data = daily_sales_data.withColumnRenamed(\n    \"sum(Quantity)\", \"Quantity\")\n\n# Split the data into two sets based on the spliting date, \"2011-09-25\". All data up to and including this date should be in the training set, while data after this date should be in the testing set. Return a pandas Dataframe, pd_daily_train_data, containing, at least, the columns [\"Country\", \"StockCode\", \"InvoiceDate\", \"Quantity\"].\n\nsplit_date_train_test = \"2011-09-25\"\n\n# Creating the train and test datasets\ntrain_data = daily_sales_data.filter(\n    col(\"InvoiceDate\") <= split_date_train_test)\ntest_data = daily_sales_data.filter(col(\"InvoiceDate\") > split_date_train_test)\n\npd_daily_train_data = train_data.toPandas()\n\n# Creating indexer for categorical columns\ncountry_indexer = StringIndexer(\n    inputCol=\"Country\", outputCol=\"CountryIndex\").setHandleInvalid(\"keep\")\nstock_code_indexer = StringIndexer(\n    inputCol=\"StockCode\", outputCol=\"StockCodeIndex\").setHandleInvalid(\"keep\")\n\n# Selectiong features columns\nfeature_cols = [\"CountryIndex\", \"StockCodeIndex\", \"Month\", \"Year\",\n                \"DayOfWeek\", \"Day\", \"Week\"]\n\n# Using vector assembler to combine features\nassembler = VectorAssembler(inputCols=feature_cols, outputCol=\"features\")\n\n# Initializing a Random Forest model\nrf = RandomForestRegressor(\n    featuresCol=\"features\",\n    labelCol=\"Quantity\",\n    maxBins=4000\n)\n\n# Create a pipeline for staging the processes\npipeline = Pipeline(stages=[country_indexer, stock_code_indexer, assembler, rf])\n\n# Training the model\nmodel = pipeline.fit(train_data)\n\n# Getting test predictions\ntest_predictions = model.transform(test_data)\ntest_predictions = test_predictions.withColumn(\n    \"prediction\", col(\"prediction\").cast(\"double\"))\n\n# Provide the Mean Absolute Error (MAE) for your forecast? Return a double/floar \"mae\"\n\n# Initializing the evaluator\nmae_evaluator = RegressionEvaluator(\n    labelCol=\"Quantity\", predictionCol=\"prediction\", metricName=\"mae\")\n\n# Obtaining MAE\nmae = mae_evaluator.evaluate(test_predictions)\n\n# How many units will be sold during the  week 39 of 2011? Return an integer `quantity_sold_w39`.\n\n# Getting the weekly sales of all countries\nweekly_test_predictions = test_predictions.groupBy(\"Year\", \"Week\").agg({\"prediction\": \"sum\"})\n\n# Finding the quantity sold on the 39 week. \npromotion_week = weekly_test_predictions.filter(col('Week')==39)\n\n# Storing prediction as quantity_sold_w30\nquantity_sold_w39 = int(promotion_week.select(\"sum(prediction)\").collect()[0][0])\n\n# Stop the Spark session\nmy_spark.stop()",
    "outputsMetadata": {
     "0": {
      "height": 59,
      "type": "stream"
     },
     "1": {
      "height": 59,
      "type": "stream"
     },
     "2": {
      "height": 59,
      "type": "stream"
     },
     "3": {
      "height": 59,
      "type": "stream"
     },
     "4": {
      "height": 59,
      "type": "stream"
     }
    }
   },
   "outputs": [
    {
     "name": "stderr",
     "output_type": "stream",
     "text": [
      "                                                                                \r"
     ]
    },
    {
     "name": "stdout",
     "output_type": "stream",
     "text": [
      "24/11/15 23:13:45 WARN DAGScheduler: Broadcasting large task binary with size 1467.3 KiB\n"
     ]
    },
    {
     "name": "stderr",
     "output_type": "stream",
     "text": [
      "                                                                                \r"
     ]
    },
    {
     "name": "stdout",
     "output_type": "stream",
     "text": [
      "24/11/15 23:13:46 WARN DAGScheduler: Broadcasting large task binary with size 2.4 MiB\n"
     ]
    },
    {
     "name": "stderr",
     "output_type": "stream",
     "text": [
      "                                                                                \r"
     ]
    }
   ],
   "source": [
    "# Import required libraries\n",
    "from pyspark.sql import SparkSession\n",
    "from pyspark.ml.feature import VectorAssembler\n",
    "from pyspark.ml import Pipeline\n",
    "from pyspark.ml.regression import RandomForestRegressor\n",
    "from pyspark.sql.functions import col, dayofmonth, month, year,  to_date, to_timestamp, weekofyear, dayofweek\n",
    "from pyspark.ml.feature import StringIndexer\n",
    "from pyspark.ml.evaluation import RegressionEvaluator\n",
    "\n",
    "# Initialize Spark session\n",
    "my_spark = SparkSession.builder.appName(\"SalesForecast\").getOrCreate()\n",
    "\n",
    "# Importing sales data\n",
    "sales_data = my_spark.read.csv(\n",
    "    \"Online Retail.csv\", header=True, inferSchema=True, sep=\",\")\n",
    "\n",
    "# Convert InvoiceDate to datetime \n",
    "sales_data = sales_data.withColumn(\"InvoiceDate\", to_date(\n",
    "    to_timestamp(col(\"InvoiceDate\"), \"d/M/yyyy H:mm\")))\n",
    "\n",
    "# Aggregate data into daily intervals\n",
    "grouped_sales_data = sales_data.groupBy(\"Country\", \"StockCode\", \"InvoiceDate\", \"Year\", \"Month\", \"Day\", \"Week\", \"DayOfWeek\").agg({\"Quantity\": \"sum\",                                                                                                           \"UnitPrice\": \"avg\"})\n",
    "# Rename the target column\n",
    "grouped_sales_data = grouped_sales_data.withColumnRenamed(\n",
    "    \"sum(Quantity)\", \"Quantity\")\n",
    "\n",
    "# Split the data into two sets based on the spliting date, \"2011-09-25\". All data up to and including this date should be in the training set, while data after this date should be in the testing set. Return a pandas Dataframe, pd_daily_train_data, containing, at least, the columns [\"Country\", \"StockCode\", \"InvoiceDate\", \"Quantity\"]."
   ]
  },
  {
   "cell_type": "code",
   "execution_count": null,
   "id": "a1410d85",
   "metadata": {},
   "outputs": [],
   "source": [
    "# Creating the train and test datasets\n",
    "train_data = grouped_sales_data.filter(\n",
    "    col(\"InvoiceDate\") <= \"2011-09-25\")\n",
    "test_data = grouped_sales_data.filter(col(\"InvoiceDate\") > \"2011-09-25\")\n"
   ]
  },
  {
   "cell_type": "code",
   "execution_count": null,
   "id": "2e5448c3",
   "metadata": {},
   "outputs": [],
   "source": [
    "# Creating indexer for categorical columns\n",
    "country_indexer = StringIndexer(\n",
    "    inputCol=\"Country\", outputCol=\"CountryIndex\").setHandleInvalid(\"keep\")\n",
    "stock_code_indexer = StringIndexer(\n",
    "    inputCol=\"StockCode\", outputCol=\"StockCodeIndex\").setHandleInvalid(\"keep\")\n",
    "\n",
    "# Selectiong features columns\n",
    "features_names = [\"CountryIndex\", \"StockCodeIndex\", \"Month\", \"Year\",\n",
    "                \"DayOfWeek\", \"Day\", \"Week\"]\n",
    "\n",
    "# Using vector assembler to combine features\n",
    "vector_assembler = VectorAssembler(inputCols=features_names, outputCol=\"features\")"
   ]
  },
  {
   "cell_type": "code",
   "execution_count": null,
   "id": "9db27b26",
   "metadata": {},
   "outputs": [],
   "source": [
    "# Initializing a Random Forest model\n",
    "random_forest = RandomForestRegressor(\n",
    "    featuresCol=\"features\",\n",
    "    labelCol=\"Quantity\",\n",
    "    maxBins=4000\n",
    ")\n",
    "\n",
    "# Create a pipeline for staging the processes\n",
    "pipeline = Pipeline(stages=[country_indexer, stock_code_indexer, vector_assembler, random_forest])\n",
    "\n",
    "# Training the model\n",
    "model = pipeline.fit(train_data)\n",
    "\n",
    "# Getting test predictions\n",
    "test_predictions = model.transform(test_data)\n",
    "test_predictions = test_predictions.withColumn(\n",
    "    \"prediction\", col(\"prediction\").cast(\"double\"))"
   ]
  },
  {
   "cell_type": "code",
   "execution_count": null,
   "id": "11a6238a",
   "metadata": {},
   "outputs": [],
   "source": [
    "\n",
    "# Initializing the evaluator\n",
    "mae_evaluator = RegressionEvaluator(\n",
    "    labelCol=\"Quantity\", predictionCol=\"prediction\", metricName=\"mae\")\n",
    "\n",
    "# Obtaining MAE\n",
    "mae = mae_evaluator.evaluate(test_predictions)\n",
    "\n",
    "# How many units will be sold during the  week 39 of 2011? Return an integer `quantity_sold_w39`.\n",
    "\n",
    "# Getting the weekly sales of all countries\n",
    "weekly_test_predictions = test_predictions.groupBy(\"Year\", \"Week\").agg({\"prediction\": \"sum\"})\n",
    "\n",
    "# Finding the quantity sold on the 39 week. \n",
    "promotion_week = weekly_test_predictions.filter(col('Week')==39)\n",
    "\n",
    "# Storing prediction as quantity_sold_w30\n",
    "quantity_sold_w39 = int(promotion_week.select(\"sum(prediction)\").collect()[0][0])\n",
    "\n",
    "# Stop the Spark session\n",
    "my_spark.stop()"
   ]
  }
 ],
 "metadata": {
  "colab": {
   "name": "Welcome to DataCamp Workspaces.ipynb",
   "provenance": []
  },
  "kernelspec": {
   "display_name": "put_everything",
   "language": "python",
   "name": "python3"
  },
  "language_info": {
   "codemirror_mode": {
    "name": "ipython",
    "version": 3
   },
   "file_extension": ".py",
   "mimetype": "text/x-python",
   "name": "python",
   "nbconvert_exporter": "python",
   "pygments_lexer": "ipython3",
   "version": "3.12.5"
  }
 },
 "nbformat": 4,
 "nbformat_minor": 5
}
